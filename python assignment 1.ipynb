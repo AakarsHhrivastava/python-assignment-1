{
 "cells": [
  {
   "cell_type": "markdown",
   "id": "8237488b-c254-497e-a828-781f63ec6ed5",
   "metadata": {},
   "source": [
    "### Q1. Which keyword is used to create a function? Create a function to return a list of odd numbers in the range of 1 to 25.\n"
   ]
  },
  {
   "cell_type": "code",
   "execution_count": 1,
   "id": "92a0f7c3-058d-45f4-bf9f-f3cd2a334f80",
   "metadata": {},
   "outputs": [],
   "source": [
    "# def is a keyword used to create a function"
   ]
  },
  {
   "cell_type": "code",
   "execution_count": 4,
   "id": "a61d8e15-139d-46d0-adc5-8ffe51f18240",
   "metadata": {},
   "outputs": [],
   "source": [
    "# exapmle\n",
    "def odd_numbers():\n",
    "    return [num for num in range(1,26) if num%2 ==1]"
   ]
  },
  {
   "cell_type": "code",
   "execution_count": 8,
   "id": "937f309b-6cd2-4297-b610-b2ec344bc76d",
   "metadata": {},
   "outputs": [
    {
     "data": {
      "text/plain": [
       "[1, 3, 5, 7, 9, 11, 13, 15, 17, 19, 21, 23, 25]"
      ]
     },
     "execution_count": 8,
     "metadata": {},
     "output_type": "execute_result"
    }
   ],
   "source": [
    "odd_numbers()"
   ]
  },
  {
   "cell_type": "markdown",
   "id": "e4fd6edc-a5af-4712-b724-b850c87e5b4e",
   "metadata": {},
   "source": [
    "### Q2. Why *args and **kwargs is used in some functions? Create a function each for *args and **kwargs to demonstrate their use.\n"
   ]
  },
  {
   "cell_type": "code",
   "execution_count": 9,
   "id": "510aa4b4-e89b-48d2-aac8-f31cbf34db15",
   "metadata": {},
   "outputs": [],
   "source": [
    "# *args is used to pass a variable number of non-keyworded arguments to the function. It allows us to pass any number of arguments to the function.\n",
    "# **kwargs is used to pass a variable number of keyworded arguments to the function. It allows us to pass any number of keyworded arguments to the function."
   ]
  },
  {
   "cell_type": "code",
   "execution_count": 12,
   "id": "4c8b5642-b083-4078-9086-0341e290fcfb",
   "metadata": {},
   "outputs": [],
   "source": [
    "# example of *args\n",
    "def test1(*aakarsh):\n",
    "    return aakarsh"
   ]
  },
  {
   "cell_type": "code",
   "execution_count": 13,
   "id": "a22ee719-0bc7-44f3-8915-a3fc49d40a9e",
   "metadata": {},
   "outputs": [
    {
     "data": {
      "text/plain": [
       "(1, 2, 3, 4)"
      ]
     },
     "execution_count": 13,
     "metadata": {},
     "output_type": "execute_result"
    }
   ],
   "source": [
    "test1(1,2,3,4)"
   ]
  },
  {
   "cell_type": "code",
   "execution_count": 14,
   "id": "4ac1ada1-b504-49b4-a540-86f7dc4b130a",
   "metadata": {},
   "outputs": [],
   "source": [
    "# exaple of **kwargs\n",
    "def test2(**kwargs) :\n",
    "    return kwargs "
   ]
  },
  {
   "cell_type": "code",
   "execution_count": 15,
   "id": "198582d9-99b6-48b7-aebf-e295a6214b2b",
   "metadata": {},
   "outputs": [
    {
     "data": {
      "text/plain": [
       "{'a': [1, 2, 3, 4], 'b': 'aakarshy', 'c': 'janhvi'}"
      ]
     },
     "execution_count": 15,
     "metadata": {},
     "output_type": "execute_result"
    }
   ],
   "source": [
    "test2(a = [1,2,3,4],b = \"aakarshy\", c =\"janhvi\" )"
   ]
  },
  {
   "cell_type": "markdown",
   "id": "7006f090-f312-408d-bb9d-6256bfd2a3ff",
   "metadata": {},
   "source": [
    "### Q3. What is an iterator in python? Name the method used to initialise the iterator object and the method used for iteration. Use these methods to print the first five elements of the given list [2, 4, 6, 8, 10, 12, 14,\n",
    "16, 18, 20].\n"
   ]
  },
  {
   "cell_type": "code",
   "execution_count": 16,
   "id": "68581257-131f-4b4b-9eaa-07b6e4a40945",
   "metadata": {},
   "outputs": [],
   "source": [
    "# An iterator in Python is an object that is used to iterate over iterable objects like lists, tuples, dicts, and sets. The Python iterators object is initialized using the iter() method. It uses the next() method for iteration."
   ]
  },
  {
   "cell_type": "code",
   "execution_count": 17,
   "id": "3ebd68e9-a391-4f4b-92c5-efbc3a55e940",
   "metadata": {},
   "outputs": [
    {
     "name": "stdout",
     "output_type": "stream",
     "text": [
      "2\n",
      "4\n",
      "6\n",
      "8\n",
      "10\n"
     ]
    }
   ],
   "source": [
    "my_list = [2,4,6,8,10,12,14,16,18,20]\n",
    "my_iterator = iter(my_list)\n",
    "\n",
    "for i in range(5):\n",
    "    print(next(my_iterator))"
   ]
  },
  {
   "cell_type": "markdown",
   "id": "ffa56837-3173-4228-9657-431e8812b40f",
   "metadata": {},
   "source": [
    "### Q4. What is a generator function in python? Why yield keyword is used? Give an example of a generator function.\n"
   ]
  },
  {
   "cell_type": "code",
   "execution_count": 18,
   "id": "d797cfc1-94b3-485e-8b70-60f38d7f9eb7",
   "metadata": {},
   "outputs": [],
   "source": [
    "# A generator function in Python is a special type of function that returns an iterator object\n",
    "# It uses the yield keyword instead of return to return a value"
   ]
  },
  {
   "cell_type": "code",
   "execution_count": 19,
   "id": "bbeb6eba-d562-4b96-90a8-e6917170f56d",
   "metadata": {},
   "outputs": [],
   "source": [
    "# exaple \n",
    "def test_fib(n):\n",
    "    a,b = 0,1\n",
    "    for i in range(n):\n",
    "        yield a\n",
    "        a,b = b , a+b"
   ]
  },
  {
   "cell_type": "code",
   "execution_count": 20,
   "id": "b8bfc1cc-88d1-4c93-9841-ddffb291c536",
   "metadata": {},
   "outputs": [
    {
     "data": {
      "text/plain": [
       "<generator object test_fib at 0x7fde450419a0>"
      ]
     },
     "execution_count": 20,
     "metadata": {},
     "output_type": "execute_result"
    }
   ],
   "source": [
    "test_fib(30)"
   ]
  },
  {
   "cell_type": "code",
   "execution_count": 21,
   "id": "d46591ae-21ca-40ac-97e4-57f74a5b3ab5",
   "metadata": {},
   "outputs": [
    {
     "name": "stdout",
     "output_type": "stream",
     "text": [
      "0\n",
      "1\n",
      "1\n",
      "2\n",
      "3\n",
      "5\n",
      "8\n",
      "13\n",
      "21\n",
      "34\n",
      "55\n",
      "89\n",
      "144\n",
      "233\n",
      "377\n",
      "610\n",
      "987\n",
      "1597\n",
      "2584\n",
      "4181\n",
      "6765\n",
      "10946\n",
      "17711\n",
      "28657\n",
      "46368\n",
      "75025\n",
      "121393\n",
      "196418\n",
      "317811\n",
      "514229\n"
     ]
    }
   ],
   "source": [
    "for i in test_fib(30):\n",
    "    print(i)"
   ]
  },
  {
   "cell_type": "markdown",
   "id": "2cbe8201-65c3-454f-9df0-7acc53407f41",
   "metadata": {},
   "source": [
    "### Q5. Create a generator function for prime numbers less than 1000. Use the next() method to print the first 20 prime numbers.\n"
   ]
  },
  {
   "cell_type": "code",
   "execution_count": 22,
   "id": "d7e44c3a-0bc8-440c-9581-e7af52570658",
   "metadata": {},
   "outputs": [],
   "source": [
    "def prime_numbers():\n",
    "    for num in range(2, 1000):\n",
    "        for i in range(2,num):\n",
    "            if (num%i) == 0:\n",
    "                break\n",
    "            else:\n",
    "                yield num"
   ]
  },
  {
   "cell_type": "code",
   "execution_count": 23,
   "id": "44f03ec5-38cb-42ad-b47f-0853434ba7aa",
   "metadata": {},
   "outputs": [
    {
     "data": {
      "text/plain": [
       "<generator object prime_numbers at 0x7fde45041d90>"
      ]
     },
     "execution_count": 23,
     "metadata": {},
     "output_type": "execute_result"
    }
   ],
   "source": [
    "prime_numbers()"
   ]
  },
  {
   "cell_type": "code",
   "execution_count": 27,
   "id": "6044cfe5-27fc-4e58-92cc-c55b0155d52b",
   "metadata": {},
   "outputs": [
    {
     "name": "stdout",
     "output_type": "stream",
     "text": [
      "3\n",
      "5\n",
      "5\n",
      "5\n",
      "7\n",
      "7\n",
      "7\n",
      "7\n",
      "7\n",
      "9\n",
      "11\n",
      "11\n",
      "11\n",
      "11\n",
      "11\n",
      "11\n",
      "11\n",
      "11\n",
      "11\n",
      "13\n"
     ]
    }
   ],
   "source": [
    "my_generator = prime_numbers()\n",
    "\n",
    "for i in range(20):\n",
    "    print(next(my_generator))"
   ]
  },
  {
   "cell_type": "markdown",
   "id": "cd85c88c-973a-4d63-8b24-f6f613c041b1",
   "metadata": {},
   "source": [
    "### Q6. Write a python program to print the first 10 Fibonacci numbers using a while loop."
   ]
  },
  {
   "cell_type": "code",
   "execution_count": 28,
   "id": "9df33e94-aef6-4fb3-878d-e05fa593ace6",
   "metadata": {},
   "outputs": [
    {
     "name": "stdout",
     "output_type": "stream",
     "text": [
      "0\n",
      "1\n",
      "1\n",
      "2\n",
      "3\n",
      "5\n",
      "8\n",
      "13\n",
      "21\n",
      "34\n"
     ]
    }
   ],
   "source": [
    "n = 10\n",
    "a, b = 0, 1\n",
    "count = 0\n",
    "\n",
    "while count < n:\n",
    "    print(a)\n",
    "    nth = a + b\n",
    "    a = b\n",
    "    b = nth\n",
    "    count += 1"
   ]
  },
  {
   "cell_type": "markdown",
   "id": "7ab28407-4012-49b3-9840-0190b903cadd",
   "metadata": {},
   "source": [
    "### Q7. Write a List Comprehension to iterate through the given string: ‘pwskills’. Expected output: ['p', 'w', 's', 'k', 'i', 'l', 'l', 's']\n"
   ]
  },
  {
   "cell_type": "code",
   "execution_count": 29,
   "id": "6c8342b5-08e7-453a-b354-5845bc31099c",
   "metadata": {},
   "outputs": [
    {
     "name": "stdout",
     "output_type": "stream",
     "text": [
      "['p', 'w', 's', 'k', 'i', 'l', 'l', 's']\n"
     ]
    }
   ],
   "source": [
    "string = 'pwskills'\n",
    "result = [char for char in string]\n",
    "print(result)"
   ]
  },
  {
   "cell_type": "markdown",
   "id": "21c09e95-8e2f-4f89-820d-1a435b12a8cf",
   "metadata": {},
   "source": [
    "### Q8. Write a python program to check whether a given number is Palindrome or not using a while loop."
   ]
  },
  {
   "cell_type": "code",
   "execution_count": 31,
   "id": "6f5b6ba1-d44d-4fa7-8a21-9878916dcbbd",
   "metadata": {},
   "outputs": [
    {
     "name": "stdin",
     "output_type": "stream",
     "text": [
      "Enter a number:  3\n"
     ]
    },
    {
     "name": "stdout",
     "output_type": "stream",
     "text": [
      "The number is a palindrome!\n"
     ]
    }
   ],
   "source": [
    "num = int(input(\"Enter a number: \"))\n",
    "temp = num\n",
    "rev = 0\n",
    "\n",
    "while(num > 0):\n",
    "    dig = num % 10\n",
    "    rev = rev * 10 + dig\n",
    "    num = num // 10\n",
    "\n",
    "if(temp == rev):\n",
    "    print(\"The number is a palindrome!\")\n",
    "else:\n",
    "    print(\"The number isn't a palindrome!\")"
   ]
  },
  {
   "cell_type": "code",
   "execution_count": 32,
   "id": "73c9a5eb-c8e9-4c54-90e4-4b497f4eac72",
   "metadata": {},
   "outputs": [
    {
     "name": "stdin",
     "output_type": "stream",
     "text": [
      "Enter a number:  40\n"
     ]
    },
    {
     "name": "stdout",
     "output_type": "stream",
     "text": [
      "The number isn't a palindrome!\n"
     ]
    }
   ],
   "source": [
    "num = int(input(\"Enter a number: \"))\n",
    "temp = num\n",
    "rev = 0\n",
    "\n",
    "while(num > 0):\n",
    "    dig = num % 10\n",
    "    rev = rev * 10 + dig\n",
    "    num = num // 10\n",
    "\n",
    "if(temp == rev):\n",
    "    print(\"The number is a palindrome!\")\n",
    "else:\n",
    "    print(\"The number isn't a palindrome!\")"
   ]
  },
  {
   "cell_type": "markdown",
   "id": "d3e76cf4-693d-4c6f-8704-72352c21dac1",
   "metadata": {},
   "source": [
    "### Q9. Write a code to print odd numbers from 1 to 100 using list comprehension."
   ]
  },
  {
   "cell_type": "code",
   "execution_count": 33,
   "id": "2172fe52-36f6-4820-9571-f5e5d7297315",
   "metadata": {},
   "outputs": [
    {
     "name": "stdout",
     "output_type": "stream",
     "text": [
      "[1, 3, 5, 7, 9, 11, 13, 15, 17, 19, 21, 23, 25, 27, 29, 31, 33, 35, 37, 39, 41, 43, 45, 47, 49, 51, 53, 55, 57, 59, 61, 63, 65, 67, 69, 71, 73, 75, 77, 79, 81, 83, 85, 87, 89, 91, 93, 95, 97, 99]\n"
     ]
    }
   ],
   "source": [
    "result = [num for num in range(1, 101) if num % 2 != 0]\n",
    "print(result)"
   ]
  },
  {
   "cell_type": "code",
   "execution_count": null,
   "id": "06838e46-e102-4720-9a75-bd786d251bbc",
   "metadata": {},
   "outputs": [],
   "source": []
  }
 ],
 "metadata": {
  "kernelspec": {
   "display_name": "Python 3 (ipykernel)",
   "language": "python",
   "name": "python3"
  },
  "language_info": {
   "codemirror_mode": {
    "name": "ipython",
    "version": 3
   },
   "file_extension": ".py",
   "mimetype": "text/x-python",
   "name": "python",
   "nbconvert_exporter": "python",
   "pygments_lexer": "ipython3",
   "version": "3.10.8"
  }
 },
 "nbformat": 4,
 "nbformat_minor": 5
}
